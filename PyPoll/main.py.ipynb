{
 "cells": [
  {
   "cell_type": "code",
   "execution_count": 185,
   "metadata": {},
   "outputs": [
    {
     "name": "stdout",
     "output_type": "stream",
     "text": [
      "Election Results:\n",
      "\n",
      "Total Votes: 3521001\n",
      "\n",
      "Total Votes for Each Candidates: \n",
      "Khan        2218231\n",
      "Correy       704200\n",
      "Li           492940\n",
      "O'Tooley     105630\n",
      "Name: Candidate, dtype: int64\n",
      "\n",
      "Percentage of Votes for Each Candidates: \n",
      "Khan        63.000011\n",
      "Correy      19.999994\n",
      "Li          13.999996\n",
      "O'Tooley     2.999999\n",
      "Name: Candidate, dtype: float64\n",
      "\n",
      "Winner is: Khan\n"
     ]
    }
   ],
   "source": [
    "import pandas as pd\n",
    "path=\"election_data.csv\"\n",
    "dataRead=pd.read_csv(path)\n",
    "dataRead.head()\n",
    "\n",
    "candidates=dataRead[[\"Voter ID\",\"Candidate\"]]\n",
    "\n",
    "\n",
    "votesCandidates=candidates[\"Candidate\"].value_counts()\n",
    "\n",
    "totalVotes=candidates[\"Voter ID\"].count()\n",
    "percentage=votesCandidates/totalVotes*100\n",
    "print(\"Election Results:\\n\")\n",
    "print(f\"Total Votes: {totalVotes}\\n\")\n",
    "print(f\"Total Votes for Each Candidates: \\n{votesCandidates}\\n\\nPercentage of Votes for Each Candidates: \\n{percentage}\\n\")\n",
    "\n",
    "summaryTable=candidates.groupby(\"Candidate\").count().sort_values(\"Voter ID\",ascending=False)\n",
    "print(f\"Winner is: {summaryTable.index[0]}\")"
   ]
  },
  {
   "cell_type": "code",
   "execution_count": null,
   "metadata": {},
   "outputs": [],
   "source": []
  },
  {
   "cell_type": "code",
   "execution_count": null,
   "metadata": {},
   "outputs": [],
   "source": []
  },
  {
   "cell_type": "code",
   "execution_count": null,
   "metadata": {},
   "outputs": [],
   "source": []
  }
 ],
 "metadata": {
  "kernelspec": {
   "display_name": "Python [conda env:root] *",
   "language": "python",
   "name": "conda-root-py"
  }
 },
 "nbformat": 4,
 "nbformat_minor": 2
}
{
 "cells": [
  {
   "cell_type": "code",
   "execution_count": 32,
   "metadata": {},
   "outputs": [
    {
     "name": "stdout",
     "output_type": "stream",
     "text": [
      "<_csv.reader object at 0x000001DD04996898>\n",
      "CSV Header: ['Voter ID', 'Country', 'Candidate']\n"
     ]
    }
   ],
   "source": [
    "import os\n",
    "import csv\n",
    "\n",
    "csvpath=os.path.join(\"test.csv\")\n",
    "totalVotes=0\n",
    "candidates=[]\n",
    "\n",
    "with open(csvpath) as file:\n",
    "    csvreader = csv.reader(file, delimiter=',')\n",
    "    print(csvreader)\n",
    "    csv_header = next(csvreader)\n",
    "    print(f\"CSV Header: {csv_header}\")\n",
    "    for row in csvreader:\n",
    "        totalVotes=totalVotes+1\n",
    "        if row[2] not in candidates:\n",
    "            candidates.append(row[2])\n",
    "\n"
   ]
  },
  {
   "cell_type": "code",
   "execution_count": 68,
   "metadata": {},
   "outputs": [
    {
     "name": "stdout",
     "output_type": "stream",
     "text": [
      "[['Voter ID', 'Country', 'Candidate'], ['112', 'us', 'a'], ['113', 'china', 'a'], ['115', 'us', 'b'], ['116', 'turkey', 'a'], ['224', 'german', 'b'], ['223', 'italy', 'c'], ['44', 'spain', 'b'], ['55', 'italy', 'c'], ['22', 'china', 'c']]\n"
     ]
    },
    {
     "data": {
      "text/plain": [
       "dict_items([('c', 1)])"
      ]
     },
     "execution_count": 68,
     "metadata": {},
     "output_type": "execute_result"
    }
   ],
   "source": [
    "import os\n",
    "import csv\n",
    "from collections import Counter\n",
    "csvpath=os.path.join(\"test.csv\")\n",
    "totalVotes=0\n",
    "candidates=[]\n",
    "votes=[]\n",
    "with open(csvpath) as file:\n",
    "    csvreader = csv.reader(file, delimiter=',')\n",
    "    reader=list(csvreader)\n",
    "    print(reader)\n",
    "    #csv_header = next(reader)\n",
    "    #print(f\"CSV Header: {csv_header}\")\n",
    "    for row in reader:\n",
    "        #print(row)\n",
    "        count=Counter(row[2])\n",
    "count.items()"
   ]
  },
  {
   "cell_type": "code",
   "execution_count": 62,
   "metadata": {},
   "outputs": [
    {
     "name": "stdout",
     "output_type": "stream",
     "text": [
      "<_csv.reader object at 0x000001DD04981C18>\n",
      "CSV Header: ['Voter ID', 'Country', 'Candidate']\n",
      "a\n",
      "a\n",
      "b\n",
      "a\n",
      "b\n",
      "c\n",
      "b\n",
      "c\n",
      "c\n"
     ]
    }
   ],
   "source": [
    "import os\n",
    "import csv\n",
    "\n",
    "csvpath=os.path.join(\"test.csv\")\n",
    "totalVotes=0\n",
    "candidates=[]\n",
    "\n",
    "def unique(list1): \n",
    "  \n",
    "    # intilize a null list \n",
    "    unique_list = [] \n",
    "      \n",
    "    # traverse for all elements \n",
    "    for x in list1: \n",
    "        # check if exists in unique_list or not \n",
    "        if x not in unique_list: \n",
    "            unique_list.append(x) \n",
    "    # print list \n",
    "    for x in unique_list: \n",
    "        print(x)\n",
    "\n",
    "\n",
    "with open(csvpath) as file:\n",
    "    csvreader = csv.reader(file, delimiter=',')\n",
    "    print(csvreader)\n",
    "    csv_header = next(csvreader)\n",
    "    print(f\"CSV Header: {csv_header}\")\n",
    "    csvreader=list(csvreader)\n",
    "\n",
    "    for index, row in enumerate(csvreader,1):\n",
    "        totalVotes=totalVotes+1\n",
    "        #print(index,row[2])\n",
    "        unique(row[2])\n"
   ]
  },
  {
   "cell_type": "code",
   "execution_count": 185,
   "metadata": {},
   "outputs": [
    {
     "name": "stdout",
     "output_type": "stream",
     "text": [
      "Election Results:\n",
      "\n",
      "Total Votes: 3521001\n",
      "\n",
      "Total Votes for Each Candidates: \n",
      "Khan        2218231\n",
      "Correy       704200\n",
      "Li           492940\n",
      "O'Tooley     105630\n",
      "Name: Candidate, dtype: int64\n",
      "\n",
      "Percentage of Votes for Each Candidates: \n",
      "Khan        63.000011\n",
      "Correy      19.999994\n",
      "Li          13.999996\n",
      "O'Tooley     2.999999\n",
      "Name: Candidate, dtype: float64\n",
      "\n",
      "Winner is: Khan\n"
     ]
    }
   ],
   "source": [
    "import pandas as pd\n",
    "path=\"election_data.csv\"\n",
    "dataRead=pd.read_csv(path)\n",
    "dataRead.head()\n",
    "\n",
    "candidates=dataRead[[\"Voter ID\",\"Candidate\"]]\n",
    "\n",
    "\n",
    "votesCandidates=candidates[\"Candidate\"].value_counts()\n",
    "\n",
    "totalVotes=candidates[\"Voter ID\"].count()\n",
    "percentage=votesCandidates/totalVotes*100\n",
    "print(\"Election Results:\\n\")\n",
    "print(f\"Total Votes: {totalVotes}\\n\")\n",
    "print(f\"Total Votes for Each Candidates: \\n{votesCandidates}\\n\\nPercentage of Votes for Each Candidates: \\n{percentage}\\n\")\n",
    "\n",
    "summaryTable=candidates.groupby(\"Candidate\").count().sort_values(\"Voter ID\",ascending=False)\n",
    "print(f\"Winner is: {summaryTable.index[0]}\")"
   ]
  },
  {
   "cell_type": "code",
   "execution_count": null,
   "metadata": {},
   "outputs": [],
   "source": []
  },
  {
   "cell_type": "code",
   "execution_count": null,
   "metadata": {},
   "outputs": [],
   "source": []
  },
  {
   "cell_type": "code",
   "execution_count": null,
   "metadata": {},
   "outputs": [],
   "source": []
  }
 ],
 "metadata": {
  "kernelspec": {
   "display_name": "Python [conda env:root] *",
   "language": "python",
   "name": "conda-root-py"
  }
 },
 "nbformat": 4,
 "nbformat_minor": 2
}

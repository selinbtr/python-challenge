{
 "cells": [
  {
   "cell_type": "code",
   "execution_count": 237,
   "metadata": {},
   "outputs": [
    {
     "name": "stdout",
     "output_type": "stream",
     "text": [
      "<_csv.reader object at 0x000001D46E430C88>\n",
      "CSV Header: ['Date', 'Profit/Losses']\n"
     ]
    },
    {
     "data": {
      "text/plain": [
       "[{'Total Months: ': 86,\n",
       "  'Total: ': 38382578,\n",
       "  'Average Change: ': -2315.1176470588234,\n",
       "  'Greatest Increase in Profits: ': ['Feb-2012', 1926159],\n",
       "  'Greatest Decrease in Profits: ': ['Sep-2013', -2196167]}]"
      ]
     },
     "execution_count": 237,
     "metadata": {},
     "output_type": "execute_result"
    }
   ],
   "source": [
    "import os\n",
    "import csv\n",
    "csvpath=os.path.join(\"budget_data.csv\")\n",
    "\n",
    "totalMonths=0\n",
    "total=0\n",
    "previous=0\n",
    "diff=0\n",
    "new_data=[]\n",
    "max=0\n",
    "min=0\n",
    "\n",
    "with open(csvpath) as file:\n",
    "    csvreader = csv.reader(file, delimiter=',')\n",
    "    print(csvreader)\n",
    "    csv_header = next(csvreader)\n",
    "    print(f\"CSV Header: {csv_header}\")\n",
    "    for row in csvreader:\n",
    "        diff=int(row[1])-previous\n",
    "        totalMonths=totalMonths+1\n",
    "        total=total+int(row[1])\n",
    "        previous=int(row[1])\n",
    "        new_data.append(\n",
    "            {\n",
    "                \"Date\": row[0],\n",
    "                \"Profit and Losses\": row[1],\n",
    "                \"Differences\": diff\n",
    "            }\n",
    "        )\n",
    "        new_data[0][\"Differences\"]=0\n",
    "        if new_data[totalMonths-1][\"Differences\"]>max:\n",
    "           max=new_data[totalMonths-1][\"Differences\"]\n",
    "           max_month=row[0] \n",
    "        if new_data[totalMonths-1][\"Differences\"]<min:\n",
    "           min=new_data[totalMonths-1][\"Differences\"]\n",
    "           min_month=row[0]\n",
    "       \n",
    "ave = sum([i[\"Differences\"] for i in new_data])/(totalMonths-1)\n",
    "summary_table=[]\n",
    "summary_table.append(\n",
    "    {\n",
    "        \"Total Months: \":totalMonths,\n",
    "        \"Total: \":total,     \n",
    "        \"Average Change: \":ave,\n",
    "        \"Greatest Increase in Profits: \":[max_month,max],\n",
    "        \"Greatest Decrease in Profits: \":[min_month,min]\n",
    "    }\n",
    ")\n",
    "summary_table"
   ]
  },
  {
   "cell_type": "code",
   "execution_count": null,
   "metadata": {},
   "outputs": [],
   "source": []
  },
  {
   "cell_type": "code",
   "execution_count": null,
   "metadata": {},
   "outputs": [],
   "source": []
  }
 ],
 "metadata": {
  "kernelspec": {
   "display_name": "Python [conda env:root] *",
   "language": "python",
   "name": "conda-root-py"
  },
  "language_info": {
   "codemirror_mode": {
    "name": "ipython",
    "version": 3
   },
   "file_extension": ".py",
   "mimetype": "text/x-python",
   "name": "python",
   "nbconvert_exporter": "python",
   "pygments_lexer": "ipython3",
   "version": "3.7.4"
  }
 },
 "nbformat": 4,
 "nbformat_minor": 2
}
